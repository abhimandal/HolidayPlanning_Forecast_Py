{
 "cells": [
  {
   "cell_type": "markdown",
   "metadata": {
    "slideshow": {
     "slide_type": "slide"
    }
   },
   "source": [
    "                                            Holiday Planning Tool\n",
    "This is a prototype of Hoiliday planning tool. The tool accepts the journey date and the prefered temperature of the customer as input and suggests two best travel packages for the customer based on the prefereced of the customer."
   ]
  },
  {
   "cell_type": "code",
   "execution_count": null,
   "metadata": {
    "slideshow": {
     "slide_type": "slide"
    }
   },
   "outputs": [],
   "source": [
    "#required libraries \n",
    "import http.client, urllib.request, urllib.parse, urllib.error, base64\n",
    "import numpy\n",
    "import matplotlib.pyplot as plt\n",
    "import math\n",
    "import os\n",
    "from sklearn.preprocessing import MinMaxScaler\n",
    "import tensorflow\n",
    "import keras\n",
    "from keras.models import Sequential\n",
    "from keras.layers import Dense\n",
    "from keras.layers import LSTM\n",
    "from sklearn.metrics import mean_squared_error,mean_absolute_error\n",
    "from sklearn.model_selection import train_test_split\n",
    "import sklearn\n",
    "import pandas as pd\n",
    "import numpy as np\n",
    "import glob\n",
    "import warnings\n",
    "from datetime import datetime\n",
    "warnings.filterwarnings('ignore', '.*do not.*',)\n",
    "from fbprophet import Prophet\n",
    "import re"
   ]
  },
  {
   "cell_type": "markdown",
   "metadata": {},
   "source": [
    "Function to search for the flights on the date of travel. Funtion accepts the travel destination airport code along with the date of travel as input and returns different possible flights to the destination aiport form New York airport.\n",
    "The flight details are fetched using FlightLookup API."
   ]
  },
  {
   "cell_type": "code",
   "execution_count": 215,
   "metadata": {},
   "outputs": [],
   "source": [
    "def getFlightDetails(to,year,month,day):\n",
    "    \n",
    "    headers = {\n",
    "        # Request headers\n",
    "        'Ocp-Apim-Subscription-Key': '00c12c7f625f4eeaa65bac14b53489d7',\n",
    "    }\n",
    "    body=\"\"\n",
    "\n",
    "    params = urllib.parse.urlencode({\n",
    "        # Request parameters\n",
    "        'Connection': 'DIRECT'\n",
    "    })\n",
    "\n",
    "    try:\n",
    "        conn = http.client.HTTPSConnection('flightlookup.azure-api.net')\n",
    "        conn.request(\"GET\", \"/v1/xml/TimeTable/JFK/\"+to+\"/\"+year+month+day+\"/?%s\" % params,body , headers)\n",
    "        response = conn.getresponse()\n",
    "        data = response.read()\n",
    "        conn.close()\n",
    "    except Exception as e:\n",
    "        print(\"[Errno {0}] {1}\".format(e.errno, e.strerror))\n",
    "    \n",
    "    #get flight timings\n",
    "    dataString=str(data)\n",
    "    flightDurations = re.findall('TotalFlightTime=\"PT(.+?)\"', dataString)\n",
    "    \n",
    "    #get fliht names\n",
    "    flights = re.findall('CompanyShortName=\"(.+?)\" />', dataString)\n",
    "    \n",
    "    #store flight details into a pandas dataframe\n",
    "    flightData = pd.DataFrame(\n",
    "        {\n",
    "         'Duration': flightDurations[0:2],\n",
    "         'Flights': flights[0:2],\n",
    "        })\n",
    "    return(flightData)"
   ]
  },
  {
   "cell_type": "markdown",
   "metadata": {},
   "source": [
    "Function implementing LSTM machine learning model for predicting weather data. Function accepts the path of the file containing the past weather data and writes the predicted weather data for the next 30 days into a csv file."
   ]
  },
  {
   "cell_type": "code",
   "execution_count": 54,
   "metadata": {},
   "outputs": [],
   "source": [
    "def forecaster_LSTM(filepath):\n",
    "    print('...................LSTM forecasting......................')\n",
    "    #get the dataset for prediction \n",
    "    dataset = pd.read_csv(filepath, usecols=[1], engine='python')\n",
    "    df = dataset.values\n",
    "    df = dataset.astype('float32')\n",
    "\n",
    "    #scaling of input valued into the range of 0 to 1\n",
    "    scaler = MinMaxScaler(feature_range=(0, 1))\n",
    "    dataset = scaler.fit_transform(dataset)\n",
    " \n",
    "    # split into train and test sets\n",
    "    train_size = int(len(dataset) * 0.67)\n",
    "    test_size = len(dataset) - train_size\n",
    "    train, test = dataset[0:train_size,:], dataset[train_size:len(dataset),:]\n",
    "    print(len(train), len(test))\n",
    "\n",
    "    # convert an array of values into a dataset matrix\n",
    "    def create_dataset(dataset, look_back=1):\n",
    "        dataX, dataY = [], []\n",
    "        for i in range(len(dataset)-look_back-1):\n",
    "            a = dataset[i:(i+look_back), 0]\n",
    "            dataX.append(a)\n",
    "            dataY.append(dataset[i + look_back, 0])\n",
    "        return numpy.array(dataX), numpy.array(dataY)\n",
    "    # reshape into X=t and Y=t+1\n",
    "    look_back = 1\n",
    "    trainX, trainY = create_dataset(train, look_back)\n",
    "    testX, testY = create_dataset(test, look_back)\n",
    "\n",
    "    # reshape input to be [samples, time steps, features]\n",
    "    trainX = numpy.reshape(trainX, (trainX.shape[0], 1, trainX.shape[1]))\n",
    "    testX = numpy.reshape(testX, (testX.shape[0], 1, testX.shape[1]))\n",
    "    \n",
    "\n",
    "    # create and fit the LSTM network\n",
    "    model = Sequential()\n",
    "    model.add(LSTM(4, input_shape=(1, look_back)))\n",
    "    model.add(Dense(1))\n",
    "    model.compile(loss='mean_squared_error', optimizer='adam')\n",
    "    model.fit(trainX, trainY, epochs=10, batch_size=2, verbose=2)\n",
    "\n",
    "    # make predictions\n",
    "    trainPredict = model.predict(trainX)\n",
    "    testPredict = model.predict(testX)\n",
    "    \n",
    "    # invert predictions\n",
    "    trainPredict = scaler.inverse_transform(trainPredict)\n",
    "    trainY = scaler.inverse_transform([trainY])\n",
    "    testPredict = scaler.inverse_transform(testPredict)\n",
    "    testY = scaler.inverse_transform([testY])\n",
    "    \n",
    "    \n",
    "    # calculate root mean squared error\n",
    "    print(\"RMSE\")\n",
    "    trainScore = math.sqrt(mean_squared_error(trainY[0], trainPredict[:,0]))\n",
    "    print('Train Score: %.2f RMSE' % (trainScore))\n",
    "    testScore = math.sqrt(mean_squared_error(testY[0], testPredict[:,0]))\n",
    "    print('Test Score: %.2f RMSE' % (testScore))\n",
    "      \n",
    "    #get future predictions\n",
    "    futureX,futureY=[],[]\n",
    "    for i in range(len(test)):\n",
    "        a=test[i, 0]\n",
    "        futureX.append([a])\n",
    "    futureXP=numpy.array(futureX)\n",
    "    futureXP = numpy.reshape(futureXP, (futureXP.shape[0], 1, futureXP.shape[1]))\n",
    "    futurePredict=model.predict(futureXP)\n",
    "    for i in range(30):\n",
    "        futureX.append([futurePredict[-1]])\n",
    "        futureXP=numpy.array(futureX)\n",
    "        futureXP = numpy.reshape(futureXP, (futureXP.shape[0], 1, futureXP.shape[1]))\n",
    "        futurePredict=model.predict(futureXP)\n",
    "    futurePredict = scaler.inverse_transform(futurePredict)\n",
    "    result=futurePredict[-30:]\n",
    "    dates = pd.date_range(start='12/01/2017',end='12/30/2017',freq='D')\n",
    "    predictedTemp=pd.DataFrame(dates,columns=['date'])\n",
    "    predictedTemp['Temp']=result\n",
    "    predictedTemp=predictedTemp.set_index(['date'])\n",
    "    predictedTemp.to_csv('result/'+filepath, sep=',')\n",
    "    "
   ]
  },
  {
   "cell_type": "markdown",
   "metadata": {},
   "source": [
    "Function implementing Facebook Prophet for predicting weather data. Function accepts the path of the file containing the past weather data and writes the predicted weather data for the next 30 days into a csv file."
   ]
  },
  {
   "cell_type": "code",
   "execution_count": 60,
   "metadata": {},
   "outputs": [],
   "source": [
    "def forecast_Prophet(filepath):\n",
    "    #read data\n",
    "    df = pd.read_csv(filepath)\n",
    "    df.columns=['ds', 'y']\n",
    "    df['ds']=pd.DatetimeIndex(df['ds'])\n",
    "    pd.to_numeric(df['y'], downcast='signed')\n",
    "    \n",
    "    #initialize and fit the model\n",
    "    model=Prophet()\n",
    "    model.fit(df)\n",
    "\n",
    "    # make prediction for next 30 days\n",
    "    future_dates = model.make_future_dataframe(periods=30)\n",
    "    future_dates.tail()\n",
    "\n",
    "    # Write the results into a file\n",
    "    forecast = model.predict(future_dates)\n",
    "    result=(forecast[['ds', 'yhat']].tail(30))\n",
    "    result.columns=['date', 'Temp']\n",
    "    result=result.set_index(['date'])\n",
    "    result.to_csv('result/'+filepath, sep=',')"
   ]
  },
  {
   "cell_type": "code",
   "execution_count": 64,
   "metadata": {},
   "outputs": [
    {
     "name": "stderr",
     "output_type": "stream",
     "text": [
      "INFO:fbprophet:Disabling daily seasonality. Run prophet with daily_seasonality=True to override this.\n"
     ]
    }
   ],
   "source": [
    "#predicts weather for the following 4 cities\n",
    "#forecast_Prophet('Phoenix.csv')\n",
    "#forecast_Prophet('Albuquerque.csv')\n",
    "#forecast_Prophet('Portland.csv')\n",
    "#forecast_Prophet('San Diego.csv')\n"
   ]
  },
  {
   "cell_type": "code",
   "execution_count": 55,
   "metadata": {},
   "outputs": [
    {
     "name": "stdout",
     "output_type": "stream",
     "text": [
      "...................LSTM forecasting......................\n",
      "1264 623\n",
      "Epoch 1/10\n",
      " - 2s - loss: 0.0739\n",
      "Epoch 2/10\n",
      " - 1s - loss: 0.0147\n",
      "Epoch 3/10\n",
      " - 1s - loss: 0.0075\n",
      "Epoch 4/10\n",
      " - 1s - loss: 0.0040\n",
      "Epoch 5/10\n",
      " - 1s - loss: 0.0033\n",
      "Epoch 6/10\n",
      " - 1s - loss: 0.0033\n",
      "Epoch 7/10\n",
      " - 1s - loss: 0.0033\n",
      "Epoch 8/10\n",
      " - 1s - loss: 0.0033\n",
      "Epoch 9/10\n",
      " - 1s - loss: 0.0033\n",
      "Epoch 10/10\n",
      " - 1s - loss: 0.0033\n",
      "RMSE\n",
      "Train Score: 1.87 RMSE\n",
      "Test Score: 2.02 RMSE\n"
     ]
    }
   ],
   "source": [
    "#predict weather for Seattle\n",
    "#forecaster_LSTM('Seattle.csv')"
   ]
  },
  {
   "cell_type": "markdown",
   "metadata": {},
   "source": [
    "Functoion which generates packages for the customers based on their preferences. Function accepts date of travel and prefered temperature of the customers as input and generated packages based on the input preferences"
   ]
  },
  {
   "cell_type": "code",
   "execution_count": 241,
   "metadata": {},
   "outputs": [],
   "source": [
    "def package(date,temp):\n",
    "    #read the files containing the predicted temperatures\n",
    "    dfSeattle = pd.read_csv('result/Seattle.csv',index_col=0)\n",
    "    dictSeattle=dfSeattle.to_dict()\n",
    "    dfSan = pd.read_csv('result/San Diego.csv',index_col=0)\n",
    "    dictSan=dfSan.to_dict()\n",
    "    dfPortland = pd.read_csv('result/Portland.csv',index_col=0)\n",
    "    dictPortland=dfPortland.to_dict()\n",
    "    dfAlbuquerque = pd.read_csv('result/Albuquerque.csv',index_col=0)\n",
    "    dictAlbuquerque=dfAlbuquerque.to_dict()\n",
    "    dfPhoenix = pd.read_csv('result/Phoenix.csv',index_col=0)\n",
    "    dictPhoenix=dfPhoenix.to_dict()\n",
    "    \n",
    "    #get temperatures of the five cities on the input date\n",
    "    tempSeattle=dictSeattle[\"Temp\"][date]\n",
    "    tempSan=dictSan[\"Temp\"][date]\n",
    "    tempPortland=dictPortland[\"Temp\"][date]\n",
    "    tempAlbuquerque=dictAlbuquerque[\"Temp\"][date]\n",
    "    tempPhoenix=dictPhoenix[\"Temp\"][date]\n",
    "    \n",
    "    #get differece of each temperature form the input temperature\n",
    "    tempDiffSeattle=tempSeattle-temp\n",
    "    tempDiffSan=tempSan-temp\n",
    "    tempDiffPortland=tempPortland-temp\n",
    "    tempDiffAlbuquerque=tempAlbuquerque-temp\n",
    "    tempDiffPhoenix=tempPhoenix-temp\n",
    "    \n",
    "    #select the two cities with the least differeneces\n",
    "    dictTempDiff={\"Seattle\":tempDiffSeattle, \"San\":tempDiffSan,\"Portland\":tempDiffPortland, \"Albuquerque\":tempDiffAlbuquerque,\"Phoenix\":tempDiffPhoenix}\n",
    "    sortedDictTempDiff=sorted(dictTempDiff.values())\n",
    "    for key,value in dictTempDiff.items():\n",
    "        if(value==sortedDictTempDiff[0]):\n",
    "            firstCity=key\n",
    "        if(value==sortedDictTempDiff[1]):\n",
    "            secondCity=key\n",
    "    \n",
    "    #airport codes of five cities\n",
    "    dictAirportCodes={\"Seattle\":\"SEA\", \"San\":\"SAN\",\"Portland\":\"PDX\", \"Albuquerque\":\"ABQ\",\"Phoenix\":\"PHX\"}\n",
    "    year=date[0:4]\n",
    "    month=date[5:7]\n",
    "    day=date[8:]\n",
    "    \n",
    "    #print the restults\n",
    "    print(\"---------------------First Preferecne-----------------------------\")\n",
    "    print(\"City : \",firstCity)\n",
    "    print(\"Temperature : \",(temp+dictTempDiff[firstCity]),\"F\")\n",
    "    print(\"Flight Details :\")\n",
    "    print(getFlightDetails(dictAirportCodes[firstCity],'2019',month,day))\n",
    "    \n",
    "    print(\"\\n\\n---------------------Second Preferecne-----------------------------\")\n",
    "    print(\"City : \",secondCity)\n",
    "    print(\"Temperature : \",(temp+dictTempDiff[secondCity]),\"F\")\n",
    "    print(\"Flight Details :\")\n",
    "    print(getFlightDetails(dictAirportCodes[secondCity],'2019',month,day))\n",
    " "
   ]
  },
  {
   "cell_type": "code",
   "execution_count": 244,
   "metadata": {},
   "outputs": [
    {
     "name": "stdout",
     "output_type": "stream",
     "text": [
      "---------------------First Preferecne-----------------------------\n",
      "City :  Albuquerque\n",
      "Temperature :  275.6851411635925 F\n",
      "Flight Details :\n",
      "  Duration          Flights\n",
      "0    5H12M  JetBlue Airways\n",
      "\n",
      "\n",
      "---------------------Second Preferecne-----------------------------\n",
      "City :  Seattle\n",
      "Temperature :  276.52615 F\n",
      "Flight Details :\n",
      "  Duration            Flights\n",
      "0    6H05M    Alaska Airlines\n",
      "1    6H20M  American Airlines\n"
     ]
    }
   ],
   "source": [
    "#call function to get the results\n",
    "package(\"2017-12-25\",250)"
   ]
  }
 ],
 "metadata": {
  "kernelspec": {
   "display_name": "Python 3",
   "language": "python",
   "name": "python3"
  },
  "language_info": {
   "codemirror_mode": {
    "name": "ipython",
    "version": 3
   },
   "file_extension": ".py",
   "mimetype": "text/x-python",
   "name": "python",
   "nbconvert_exporter": "python",
   "pygments_lexer": "ipython3",
   "version": "3.6.5"
  }
 },
 "nbformat": 4,
 "nbformat_minor": 2
}
